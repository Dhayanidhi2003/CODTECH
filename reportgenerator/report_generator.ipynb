{
  "nbformat": 4,
  "nbformat_minor": 0,
  "metadata": {
    "colab": {
      "provenance": []
    },
    "kernelspec": {
      "name": "python3",
      "display_name": "Python 3"
    },
    "language_info": {
      "name": "python"
    }
  },
  "cells": [
    {
      "cell_type": "code",
      "execution_count": 3,
      "metadata": {
        "id": "mSwV1lvPwm5F"
      },
      "outputs": [],
      "source": [
        "# -----------------------------------------------\n",
        "# CODTECH INTERNSHIP - TASK 2: AUTOMATED REPORT GENERATION\n",
        "# -----------------------------------------------\n",
        "# Objective:\n",
        "# Develop a Python script that reads data from a file (CSV),\n",
        "# analyzes it, and generates a formatted PDF report.\n",
        "#\n",
        "# Libraries used:\n",
        "# - pandas: For reading and analyzing data\n",
        "# - reportlab: For creating a PDF report\n",
        "# -----------------------------------------------\n",
        "\n",
        "# Importing required libraries\n",
        "import pandas as pd\n",
        "from reportlab.lib import colors\n",
        "from reportlab.lib.pagesizes import A4\n",
        "from reportlab.lib.units import inch\n",
        "from reportlab.platypus import SimpleDocTemplate, Table, TableStyle, Paragraph, Spacer\n",
        "from reportlab.lib.styles import getSampleStyleSheet"
      ]
    },
    {
      "cell_type": "code",
      "source": [
        "pip install pandas reportlab"
      ],
      "metadata": {
        "colab": {
          "base_uri": "https://localhost:8080/"
        },
        "id": "VbfD7XMqyJgY",
        "outputId": "42dbb112-d45b-43df-c31f-e4a151c5e574"
      },
      "execution_count": 2,
      "outputs": [
        {
          "output_type": "stream",
          "name": "stdout",
          "text": [
            "Requirement already satisfied: pandas in /usr/local/lib/python3.12/dist-packages (2.2.2)\n",
            "Collecting reportlab\n",
            "  Downloading reportlab-4.4.4-py3-none-any.whl.metadata (1.7 kB)\n",
            "Requirement already satisfied: numpy>=1.26.0 in /usr/local/lib/python3.12/dist-packages (from pandas) (2.0.2)\n",
            "Requirement already satisfied: python-dateutil>=2.8.2 in /usr/local/lib/python3.12/dist-packages (from pandas) (2.9.0.post0)\n",
            "Requirement already satisfied: pytz>=2020.1 in /usr/local/lib/python3.12/dist-packages (from pandas) (2025.2)\n",
            "Requirement already satisfied: tzdata>=2022.7 in /usr/local/lib/python3.12/dist-packages (from pandas) (2025.2)\n",
            "Requirement already satisfied: pillow>=9.0.0 in /usr/local/lib/python3.12/dist-packages (from reportlab) (11.3.0)\n",
            "Requirement already satisfied: charset-normalizer in /usr/local/lib/python3.12/dist-packages (from reportlab) (3.4.3)\n",
            "Requirement already satisfied: six>=1.5 in /usr/local/lib/python3.12/dist-packages (from python-dateutil>=2.8.2->pandas) (1.17.0)\n",
            "Downloading reportlab-4.4.4-py3-none-any.whl (2.0 MB)\n",
            "\u001b[2K   \u001b[90m━━━━━━━━━━━━━━━━━━━━━━━━━━━━━━━━━━━━━━━━\u001b[0m \u001b[32m2.0/2.0 MB\u001b[0m \u001b[31m62.8 MB/s\u001b[0m eta \u001b[36m0:00:00\u001b[0m\n",
            "\u001b[?25hInstalling collected packages: reportlab\n",
            "Successfully installed reportlab-4.4.4\n"
          ]
        }
      ]
    },
    {
      "cell_type": "code",
      "source": [
        "# Step 1: Read data from CSV file\n",
        "# -----------------------------------------------\n",
        "# Make sure you have a CSV file named 'sales_data.csv' in the same directory.\n",
        "# The file should contain columns like Product, Sales, and Profit.\n",
        "\n",
        "data = pd.read_csv(r\"sales_data_sample.csv\", encoding='latin1')"
      ],
      "metadata": {
        "id": "aMD2efhew2WP"
      },
      "execution_count": 7,
      "outputs": []
    },
    {
      "cell_type": "code",
      "source": [
        "# Step 2: Analyze the data\n",
        "# -----------------------------------------------\n",
        "# Calculate useful summary statistics\n",
        "total_sales = data['SALES'].sum()\n",
        "total_profit = data['SALES'].sum() # Assuming profit is also in the 'SALES' column or needs a different column name\n",
        "average_sales = data['SALES'].mean()\n",
        "average_profit = data['SALES'].mean() # Uncommented this line\n",
        "max_sales = data['SALES'].max()\n",
        "min_sales = data['SALES'].min()"
      ],
      "metadata": {
        "id": "v8Vfg726w5TL"
      },
      "execution_count": 11,
      "outputs": []
    },
    {
      "cell_type": "code",
      "source": [
        "# Step 3: Create a PDF report using ReportLab\n",
        "# -----------------------------------------------\n",
        "\n",
        "# Define the PDF file name\n",
        "pdf_file = \"Sales_Report.pdf\"\n",
        "\n",
        "# Create a SimpleDocTemplate object (this represents the PDF document)\n",
        "report = SimpleDocTemplate(pdf_file, pagesize=A4)\n",
        "\n",
        "# Get predefined styles for text formatting\n",
        "styles = getSampleStyleSheet()\n",
        "\n",
        "# Create an empty list to store PDF elements\n",
        "elements = []\n",
        "\n",
        "# Add a title to the report\n",
        "title = Paragraph(\"Company Sales Performance Report\", styles['Title'])\n",
        "elements.append(title)\n",
        "elements.append(Spacer(1, 0.25 * inch))  # Adds vertical space\n",
        "\n",
        "# Add summary statistics as paragraphs\n",
        "summary_text = f\"\"\"\n",
        "<b>Total Sales:</b> ₹{total_sales}<br/>\n",
        "<b>Total Profit:</b> ₹{total_profit}<br/>\n",
        "<b>Average Sales:</b> ₹{average_sales:.2f}<br/>\n",
        "<b>Average Profit:</b> ₹{average_profit:.2f}<br/>\n",
        "<b>Highest Sale:</b> ₹{max_sales}<br/>\n",
        "<b>Lowest Sale:</b> ₹{min_sales}\n",
        "\"\"\"\n",
        "\n",
        "summary = Paragraph(summary_text, styles['Normal'])\n",
        "elements.append(summary)\n",
        "elements.append(Spacer(1, 0.3 * inch))\n",
        "\n",
        "# Add table title\n",
        "table_title = Paragraph(\"Detailed Product-wise Sales Data\", styles['Heading2'])\n",
        "elements.append(table_title)\n",
        "elements.append(Spacer(1, 0.2 * inch))\n",
        "\n",
        "# Convert the pandas DataFrame into a list of lists (for the table)\n",
        "table_data = [list(data.columns)] + data.values.tolist()\n",
        "\n",
        "# Create a table\n",
        "table = Table(table_data)\n",
        "\n",
        "# Add table styling\n",
        "table.setStyle(TableStyle([\n",
        "    ('BACKGROUND', (0, 0), (-1, 0), colors.gray),          # Header background\n",
        "    ('TEXTCOLOR', (0, 0), (-1, 0), colors.whitesmoke),     # Header text color\n",
        "    ('ALIGN', (0, 0), (-1, -1), 'CENTER'),                 # Center align all cells\n",
        "    ('FONTNAME', (0, 0), (-1, 0), 'Helvetica-Bold'),       # Header font\n",
        "    ('BOTTOMPADDING', (0, 0), (-1, 0), 12),                # Header padding\n",
        "    ('BACKGROUND', (0, 1), (-1, -1), colors.beige),        # Body background\n",
        "    ('GRID', (0, 0), (-1, -1), 1, colors.black),           # Add grid lines\n",
        "]))\n",
        "\n",
        "# Add the table to the elements\n",
        "elements.append(table)"
      ],
      "metadata": {
        "id": "WF_NIQs7w8JJ"
      },
      "execution_count": 12,
      "outputs": []
    },
    {
      "cell_type": "code",
      "source": [
        "# Step 4: Build the PDF report\n",
        "# -----------------------------------------------\n",
        "report.build(elements)\n",
        "\n",
        "# Step 5: Notify the user\n",
        "print(\"✅ PDF Report generated successfully as 'Sales_Report.pdf'\")"
      ],
      "metadata": {
        "colab": {
          "base_uri": "https://localhost:8080/"
        },
        "id": "9aSFEHTuw-1I",
        "outputId": "0ea49c6d-f5f3-4e81-adfb-b8c0bea56ddc"
      },
      "execution_count": 13,
      "outputs": [
        {
          "output_type": "stream",
          "name": "stdout",
          "text": [
            "✅ PDF Report generated successfully as 'Sales_Report.pdf'\n"
          ]
        }
      ]
    }
  ]
}